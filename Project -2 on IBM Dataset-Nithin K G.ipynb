{
 "cells": [
  {
   "cell_type": "code",
   "execution_count": 3,
   "metadata": {},
   "outputs": [],
   "source": [
    "ibm<-read.csv(\"D:/IBM_Dataset/IBM.csv\")"
   ]
  },
  {
   "cell_type": "code",
   "execution_count": 2,
   "metadata": {},
   "outputs": [
    {
     "data": {
      "text/plain": [
       "     ï..Age      Attrition            BusinessTravel   DailyRate     \n",
       " Min.   :18.00   No :1233   Non-Travel       : 150   Min.   : 102.0  \n",
       " 1st Qu.:30.00   Yes: 237   Travel_Frequently: 277   1st Qu.: 465.0  \n",
       " Median :36.00              Travel_Rarely    :1043   Median : 802.0  \n",
       " Mean   :36.92                                       Mean   : 802.5  \n",
       " 3rd Qu.:43.00                                       3rd Qu.:1157.0  \n",
       " Max.   :60.00                                       Max.   :1499.0  \n",
       "                                                                     \n",
       "                  Department  DistanceFromHome   Education    \n",
       " Human Resources       : 63   Min.   : 1.000   Min.   :1.000  \n",
       " Research & Development:961   1st Qu.: 2.000   1st Qu.:2.000  \n",
       " Sales                 :446   Median : 7.000   Median :3.000  \n",
       "                              Mean   : 9.193   Mean   :2.913  \n",
       "                              3rd Qu.:14.000   3rd Qu.:4.000  \n",
       "                              Max.   :29.000   Max.   :5.000  \n",
       "                                                              \n",
       "          EducationField EmployeeCount EmployeeNumber   EnvironmentSatisfaction\n",
       " Human Resources : 27    Min.   :1     Min.   :   1.0   Min.   :1.000          \n",
       " Life Sciences   :606    1st Qu.:1     1st Qu.: 491.2   1st Qu.:2.000          \n",
       " Marketing       :159    Median :1     Median :1020.5   Median :3.000          \n",
       " Medical         :464    Mean   :1     Mean   :1024.9   Mean   :2.722          \n",
       " Other           : 82    3rd Qu.:1     3rd Qu.:1555.8   3rd Qu.:4.000          \n",
       " Technical Degree:132    Max.   :1     Max.   :2068.0   Max.   :4.000          \n",
       "                                                                               \n",
       "    Gender      HourlyRate     JobInvolvement    JobLevel    \n",
       " Female:588   Min.   : 30.00   Min.   :1.00   Min.   :1.000  \n",
       " Male  :882   1st Qu.: 48.00   1st Qu.:2.00   1st Qu.:1.000  \n",
       "              Median : 66.00   Median :3.00   Median :2.000  \n",
       "              Mean   : 65.89   Mean   :2.73   Mean   :2.064  \n",
       "              3rd Qu.: 83.75   3rd Qu.:3.00   3rd Qu.:3.000  \n",
       "              Max.   :100.00   Max.   :4.00   Max.   :5.000  \n",
       "                                                             \n",
       "                      JobRole    JobSatisfaction  MaritalStatus MonthlyIncome  \n",
       " Sales Executive          :326   Min.   :1.000   Divorced:327   Min.   : 1009  \n",
       " Research Scientist       :292   1st Qu.:2.000   Married :673   1st Qu.: 2911  \n",
       " Laboratory Technician    :259   Median :3.000   Single  :470   Median : 4919  \n",
       " Manufacturing Director   :145   Mean   :2.729                  Mean   : 6503  \n",
       " Healthcare Representative:131   3rd Qu.:4.000                  3rd Qu.: 8379  \n",
       " Manager                  :102   Max.   :4.000                  Max.   :19999  \n",
       " (Other)                  :215                                                 \n",
       "  MonthlyRate    NumCompaniesWorked Over18   OverTime   PercentSalaryHike\n",
       " Min.   : 2094   Min.   :0.000      Y:1470   No :1054   Min.   :11.00    \n",
       " 1st Qu.: 8047   1st Qu.:1.000               Yes: 416   1st Qu.:12.00    \n",
       " Median :14236   Median :2.000                          Median :14.00    \n",
       " Mean   :14313   Mean   :2.693                          Mean   :15.21    \n",
       " 3rd Qu.:20462   3rd Qu.:4.000                          3rd Qu.:18.00    \n",
       " Max.   :26999   Max.   :9.000                          Max.   :25.00    \n",
       "                                                                         \n",
       " PerformanceRating RelationshipSatisfaction StandardHours StockOptionLevel\n",
       " Min.   :3.000     Min.   :1.000            Min.   :80    Min.   :0.0000  \n",
       " 1st Qu.:3.000     1st Qu.:2.000            1st Qu.:80    1st Qu.:0.0000  \n",
       " Median :3.000     Median :3.000            Median :80    Median :1.0000  \n",
       " Mean   :3.154     Mean   :2.712            Mean   :80    Mean   :0.7939  \n",
       " 3rd Qu.:3.000     3rd Qu.:4.000            3rd Qu.:80    3rd Qu.:1.0000  \n",
       " Max.   :4.000     Max.   :4.000            Max.   :80    Max.   :3.0000  \n",
       "                                                                          \n",
       " TotalWorkingYears TrainingTimesLastYear WorkLifeBalance YearsAtCompany  \n",
       " Min.   : 0.00     Min.   :0.000         Min.   :1.000   Min.   : 0.000  \n",
       " 1st Qu.: 6.00     1st Qu.:2.000         1st Qu.:2.000   1st Qu.: 3.000  \n",
       " Median :10.00     Median :3.000         Median :3.000   Median : 5.000  \n",
       " Mean   :11.28     Mean   :2.799         Mean   :2.761   Mean   : 7.008  \n",
       " 3rd Qu.:15.00     3rd Qu.:3.000         3rd Qu.:3.000   3rd Qu.: 9.000  \n",
       " Max.   :40.00     Max.   :6.000         Max.   :4.000   Max.   :40.000  \n",
       "                                                                         \n",
       " YearsInCurrentRole YearsSinceLastPromotion YearsWithCurrManager\n",
       " Min.   : 0.000     Min.   : 0.000          Min.   : 0.000      \n",
       " 1st Qu.: 2.000     1st Qu.: 0.000          1st Qu.: 2.000      \n",
       " Median : 3.000     Median : 1.000          Median : 3.000      \n",
       " Mean   : 4.229     Mean   : 2.188          Mean   : 4.123      \n",
       " 3rd Qu.: 7.000     3rd Qu.: 3.000          3rd Qu.: 7.000      \n",
       " Max.   :18.000     Max.   :15.000          Max.   :17.000      \n",
       "                                                                "
      ]
     },
     "metadata": {},
     "output_type": "display_data"
    }
   ],
   "source": [
    "summary(ibm)"
   ]
  },
  {
   "cell_type": "code",
   "execution_count": 6,
   "metadata": {},
   "outputs": [
    {
     "data": {
      "text/html": [
       "35"
      ],
      "text/latex": [
       "35"
      ],
      "text/markdown": [
       "35"
      ],
      "text/plain": [
       "[1] 35"
      ]
     },
     "metadata": {},
     "output_type": "display_data"
    }
   ],
   "source": [
    "ncol(ibm)"
   ]
  },
  {
   "cell_type": "code",
   "execution_count": 7,
   "metadata": {},
   "outputs": [
    {
     "data": {
      "text/html": [
       "1470"
      ],
      "text/latex": [
       "1470"
      ],
      "text/markdown": [
       "1470"
      ],
      "text/plain": [
       "[1] 1470"
      ]
     },
     "metadata": {},
     "output_type": "display_data"
    }
   ],
   "source": [
    "nrow(ibm)"
   ]
  },
  {
   "cell_type": "markdown",
   "metadata": {},
   "source": [
    "# Identifying the missing values"
   ]
  },
  {
   "cell_type": "code",
   "execution_count": 4,
   "metadata": {},
   "outputs": [],
   "source": [
    "total_missing_value<-data.frame(sapply(ibm,function(x)sum(is.na(x))))"
   ]
  },
  {
   "cell_type": "code",
   "execution_count": 5,
   "metadata": {},
   "outputs": [
    {
     "data": {
      "text/html": [
       "<table>\n",
       "<caption>A data.frame: 35 × 1</caption>\n",
       "<thead>\n",
       "\t<tr><th></th><th scope=col>sapply.ibm..function.x..sum.is.na.x...</th></tr>\n",
       "\t<tr><th></th><th scope=col>&lt;int&gt;</th></tr>\n",
       "</thead>\n",
       "<tbody>\n",
       "\t<tr><th scope=row>ï..Age</th><td>0</td></tr>\n",
       "\t<tr><th scope=row>Attrition</th><td>0</td></tr>\n",
       "\t<tr><th scope=row>BusinessTravel</th><td>0</td></tr>\n",
       "\t<tr><th scope=row>DailyRate</th><td>0</td></tr>\n",
       "\t<tr><th scope=row>Department</th><td>0</td></tr>\n",
       "\t<tr><th scope=row>DistanceFromHome</th><td>0</td></tr>\n",
       "\t<tr><th scope=row>Education</th><td>0</td></tr>\n",
       "\t<tr><th scope=row>EducationField</th><td>0</td></tr>\n",
       "\t<tr><th scope=row>EmployeeCount</th><td>0</td></tr>\n",
       "\t<tr><th scope=row>EmployeeNumber</th><td>0</td></tr>\n",
       "\t<tr><th scope=row>EnvironmentSatisfaction</th><td>0</td></tr>\n",
       "\t<tr><th scope=row>Gender</th><td>0</td></tr>\n",
       "\t<tr><th scope=row>HourlyRate</th><td>0</td></tr>\n",
       "\t<tr><th scope=row>JobInvolvement</th><td>0</td></tr>\n",
       "\t<tr><th scope=row>JobLevel</th><td>0</td></tr>\n",
       "\t<tr><th scope=row>JobRole</th><td>0</td></tr>\n",
       "\t<tr><th scope=row>JobSatisfaction</th><td>0</td></tr>\n",
       "\t<tr><th scope=row>MaritalStatus</th><td>0</td></tr>\n",
       "\t<tr><th scope=row>MonthlyIncome</th><td>0</td></tr>\n",
       "\t<tr><th scope=row>MonthlyRate</th><td>0</td></tr>\n",
       "\t<tr><th scope=row>NumCompaniesWorked</th><td>0</td></tr>\n",
       "\t<tr><th scope=row>Over18</th><td>0</td></tr>\n",
       "\t<tr><th scope=row>OverTime</th><td>0</td></tr>\n",
       "\t<tr><th scope=row>PercentSalaryHike</th><td>0</td></tr>\n",
       "\t<tr><th scope=row>PerformanceRating</th><td>0</td></tr>\n",
       "\t<tr><th scope=row>RelationshipSatisfaction</th><td>0</td></tr>\n",
       "\t<tr><th scope=row>StandardHours</th><td>0</td></tr>\n",
       "\t<tr><th scope=row>StockOptionLevel</th><td>0</td></tr>\n",
       "\t<tr><th scope=row>TotalWorkingYears</th><td>0</td></tr>\n",
       "\t<tr><th scope=row>TrainingTimesLastYear</th><td>0</td></tr>\n",
       "\t<tr><th scope=row>WorkLifeBalance</th><td>0</td></tr>\n",
       "\t<tr><th scope=row>YearsAtCompany</th><td>0</td></tr>\n",
       "\t<tr><th scope=row>YearsInCurrentRole</th><td>0</td></tr>\n",
       "\t<tr><th scope=row>YearsSinceLastPromotion</th><td>0</td></tr>\n",
       "\t<tr><th scope=row>YearsWithCurrManager</th><td>0</td></tr>\n",
       "</tbody>\n",
       "</table>\n"
      ],
      "text/latex": [
       "A data.frame: 35 × 1\n",
       "\\begin{tabular}{r|l}\n",
       "  & sapply.ibm..function.x..sum.is.na.x...\\\\\n",
       "  & <int>\\\\\n",
       "\\hline\n",
       "\tï..Age & 0\\\\\n",
       "\tAttrition & 0\\\\\n",
       "\tBusinessTravel & 0\\\\\n",
       "\tDailyRate & 0\\\\\n",
       "\tDepartment & 0\\\\\n",
       "\tDistanceFromHome & 0\\\\\n",
       "\tEducation & 0\\\\\n",
       "\tEducationField & 0\\\\\n",
       "\tEmployeeCount & 0\\\\\n",
       "\tEmployeeNumber & 0\\\\\n",
       "\tEnvironmentSatisfaction & 0\\\\\n",
       "\tGender & 0\\\\\n",
       "\tHourlyRate & 0\\\\\n",
       "\tJobInvolvement & 0\\\\\n",
       "\tJobLevel & 0\\\\\n",
       "\tJobRole & 0\\\\\n",
       "\tJobSatisfaction & 0\\\\\n",
       "\tMaritalStatus & 0\\\\\n",
       "\tMonthlyIncome & 0\\\\\n",
       "\tMonthlyRate & 0\\\\\n",
       "\tNumCompaniesWorked & 0\\\\\n",
       "\tOver18 & 0\\\\\n",
       "\tOverTime & 0\\\\\n",
       "\tPercentSalaryHike & 0\\\\\n",
       "\tPerformanceRating & 0\\\\\n",
       "\tRelationshipSatisfaction & 0\\\\\n",
       "\tStandardHours & 0\\\\\n",
       "\tStockOptionLevel & 0\\\\\n",
       "\tTotalWorkingYears & 0\\\\\n",
       "\tTrainingTimesLastYear & 0\\\\\n",
       "\tWorkLifeBalance & 0\\\\\n",
       "\tYearsAtCompany & 0\\\\\n",
       "\tYearsInCurrentRole & 0\\\\\n",
       "\tYearsSinceLastPromotion & 0\\\\\n",
       "\tYearsWithCurrManager & 0\\\\\n",
       "\\end{tabular}\n"
      ],
      "text/markdown": [
       "\n",
       "A data.frame: 35 × 1\n",
       "\n",
       "| <!--/--> | sapply.ibm..function.x..sum.is.na.x... &lt;int&gt; |\n",
       "|---|---|\n",
       "| ï..Age | 0 |\n",
       "| Attrition | 0 |\n",
       "| BusinessTravel | 0 |\n",
       "| DailyRate | 0 |\n",
       "| Department | 0 |\n",
       "| DistanceFromHome | 0 |\n",
       "| Education | 0 |\n",
       "| EducationField | 0 |\n",
       "| EmployeeCount | 0 |\n",
       "| EmployeeNumber | 0 |\n",
       "| EnvironmentSatisfaction | 0 |\n",
       "| Gender | 0 |\n",
       "| HourlyRate | 0 |\n",
       "| JobInvolvement | 0 |\n",
       "| JobLevel | 0 |\n",
       "| JobRole | 0 |\n",
       "| JobSatisfaction | 0 |\n",
       "| MaritalStatus | 0 |\n",
       "| MonthlyIncome | 0 |\n",
       "| MonthlyRate | 0 |\n",
       "| NumCompaniesWorked | 0 |\n",
       "| Over18 | 0 |\n",
       "| OverTime | 0 |\n",
       "| PercentSalaryHike | 0 |\n",
       "| PerformanceRating | 0 |\n",
       "| RelationshipSatisfaction | 0 |\n",
       "| StandardHours | 0 |\n",
       "| StockOptionLevel | 0 |\n",
       "| TotalWorkingYears | 0 |\n",
       "| TrainingTimesLastYear | 0 |\n",
       "| WorkLifeBalance | 0 |\n",
       "| YearsAtCompany | 0 |\n",
       "| YearsInCurrentRole | 0 |\n",
       "| YearsSinceLastPromotion | 0 |\n",
       "| YearsWithCurrManager | 0 |\n",
       "\n"
      ],
      "text/plain": [
       "                         sapply.ibm..function.x..sum.is.na.x...\n",
       "ï..Age                   0                                     \n",
       "Attrition                0                                     \n",
       "BusinessTravel           0                                     \n",
       "DailyRate                0                                     \n",
       "Department               0                                     \n",
       "DistanceFromHome         0                                     \n",
       "Education                0                                     \n",
       "EducationField           0                                     \n",
       "EmployeeCount            0                                     \n",
       "EmployeeNumber           0                                     \n",
       "EnvironmentSatisfaction  0                                     \n",
       "Gender                   0                                     \n",
       "HourlyRate               0                                     \n",
       "JobInvolvement           0                                     \n",
       "JobLevel                 0                                     \n",
       "JobRole                  0                                     \n",
       "JobSatisfaction          0                                     \n",
       "MaritalStatus            0                                     \n",
       "MonthlyIncome            0                                     \n",
       "MonthlyRate              0                                     \n",
       "NumCompaniesWorked       0                                     \n",
       "Over18                   0                                     \n",
       "OverTime                 0                                     \n",
       "PercentSalaryHike        0                                     \n",
       "PerformanceRating        0                                     \n",
       "RelationshipSatisfaction 0                                     \n",
       "StandardHours            0                                     \n",
       "StockOptionLevel         0                                     \n",
       "TotalWorkingYears        0                                     \n",
       "TrainingTimesLastYear    0                                     \n",
       "WorkLifeBalance          0                                     \n",
       "YearsAtCompany           0                                     \n",
       "YearsInCurrentRole       0                                     \n",
       "YearsSinceLastPromotion  0                                     \n",
       "YearsWithCurrManager     0                                     "
      ]
     },
     "metadata": {},
     "output_type": "display_data"
    }
   ],
   "source": [
    "total_missing_value"
   ]
  },
  {
   "cell_type": "code",
   "execution_count": 57,
   "metadata": {},
   "outputs": [
    {
     "data": {
      "text/html": [
       "0"
      ],
      "text/latex": [
       "0"
      ],
      "text/markdown": [
       "0"
      ],
      "text/plain": [
       "[1] 0"
      ]
     },
     "metadata": {},
     "output_type": "display_data"
    }
   ],
   "source": [
    "sum(is.na(ibm))"
   ]
  },
  {
   "cell_type": "code",
   "execution_count": null,
   "metadata": {},
   "outputs": [],
   "source": [
    "# Thiere is no any missing value present"
   ]
  },
  {
   "cell_type": "markdown",
   "metadata": {},
   "source": [
    "# Categorial casting"
   ]
  },
  {
   "cell_type": "code",
   "execution_count": 172,
   "metadata": {
    "scrolled": true
   },
   "outputs": [
    {
     "name": "stdout",
     "output_type": "stream",
     "text": [
      "'data.frame':\t1470 obs. of  35 variables:\n",
      " $ ï..Age                  : int  41 49 37 33 27 32 59 30 38 36 ...\n",
      " $ Attrition               : Factor w/ 2 levels \"No\",\"Yes\": 2 1 2 1 1 1 1 1 1 1 ...\n",
      " $ BusinessTravel          : Factor w/ 3 levels \"Non-Travel\",\"Travel_Frequently\",..: 3 2 3 2 3 2 3 3 2 3 ...\n",
      " $ DailyRate               : int  1102 279 1373 1392 591 1005 1324 1358 216 1299 ...\n",
      " $ Department              : Factor w/ 3 levels \"Human Resources\",..: 3 2 2 2 2 2 2 2 2 2 ...\n",
      " $ DistanceFromHome        : int  1 8 2 3 2 2 3 24 23 27 ...\n",
      " $ Education               : int  2 1 2 4 1 2 3 1 3 3 ...\n",
      " $ EducationField          : Factor w/ 6 levels \"Human Resources\",..: 2 2 5 2 4 2 4 2 2 4 ...\n",
      " $ EmployeeCount           : int  1 1 1 1 1 1 1 1 1 1 ...\n",
      " $ EmployeeNumber          : int  1 2 4 5 7 8 10 11 12 13 ...\n",
      " $ EnvironmentSatisfaction : int  2 3 4 4 1 4 3 4 4 3 ...\n",
      " $ Gender                  : Factor w/ 2 levels \"Female\",\"Male\": 1 2 2 1 2 2 1 2 2 2 ...\n",
      " $ HourlyRate              : int  94 61 92 56 40 79 81 67 44 94 ...\n",
      " $ JobInvolvement          : int  3 2 2 3 3 3 4 3 2 3 ...\n",
      " $ JobLevel                : int  2 2 1 1 1 1 1 1 3 2 ...\n",
      " $ JobRole                 : Factor w/ 9 levels \"Healthcare Representative\",..: 8 7 3 7 3 3 3 3 5 1 ...\n",
      " $ JobSatisfaction         : int  4 2 3 3 2 4 1 3 3 3 ...\n",
      " $ MaritalStatus           : Factor w/ 3 levels \"Divorced\",\"Married\",..: 3 2 3 2 2 3 2 1 3 2 ...\n",
      " $ MonthlyIncome           : int  5993 5130 2090 2909 3468 3068 2670 2693 9526 5237 ...\n",
      " $ MonthlyRate             : int  19479 24907 2396 23159 16632 11864 9964 13335 8787 16577 ...\n",
      " $ NumCompaniesWorked      : int  8 1 6 1 9 0 4 1 0 6 ...\n",
      " $ Over18                  : Factor w/ 1 level \"Y\": 1 1 1 1 1 1 1 1 1 1 ...\n",
      " $ OverTime                : Factor w/ 2 levels \"No\",\"Yes\": 2 1 2 2 1 1 2 1 1 1 ...\n",
      " $ PercentSalaryHike       : int  11 23 15 11 12 13 20 22 21 13 ...\n",
      " $ PerformanceRating       : int  3 4 3 3 3 3 4 4 4 3 ...\n",
      " $ RelationshipSatisfaction: int  1 4 2 3 4 3 1 2 2 2 ...\n",
      " $ StandardHours           : int  80 80 80 80 80 80 80 80 80 80 ...\n",
      " $ StockOptionLevel        : int  0 1 0 0 1 0 3 1 0 2 ...\n",
      " $ TotalWorkingYears       : int  8 10 7 8 6 8 12 1 10 17 ...\n",
      " $ TrainingTimesLastYear   : int  0 3 3 3 3 2 3 2 2 3 ...\n",
      " $ WorkLifeBalance         : int  1 3 3 3 3 2 2 3 3 2 ...\n",
      " $ YearsAtCompany          : int  6 10 0 8 2 7 1 1 9 7 ...\n",
      " $ YearsInCurrentRole      : int  4 7 0 7 2 7 0 0 7 7 ...\n",
      " $ YearsSinceLastPromotion : int  0 1 0 3 2 3 0 0 1 7 ...\n",
      " $ YearsWithCurrManager    : int  5 7 0 0 2 6 0 0 8 7 ...\n"
     ]
    }
   ],
   "source": [
    "str(ibm)"
   ]
  },
  {
   "cell_type": "code",
   "execution_count": null,
   "metadata": {},
   "outputs": [],
   "source": [
    "### Nothing to ctagorize,everything is set for model creation"
   ]
  },
  {
   "cell_type": "markdown",
   "metadata": {},
   "source": [
    "# Splitting the IBM data into test and train"
   ]
  },
  {
   "cell_type": "code",
   "execution_count": 11,
   "metadata": {},
   "outputs": [],
   "source": [
    "set.seed(1000)"
   ]
  },
  {
   "cell_type": "code",
   "execution_count": 12,
   "metadata": {},
   "outputs": [],
   "source": [
    "train.index<-sample(c(dim(ibm))[1],dim(ibm)[1]*0.8)"
   ]
  },
  {
   "cell_type": "code",
   "execution_count": 13,
   "metadata": {},
   "outputs": [],
   "source": [
    "ibm_train<-ibm[train.index,]"
   ]
  },
  {
   "cell_type": "code",
   "execution_count": 14,
   "metadata": {},
   "outputs": [],
   "source": [
    "ibm_test<-ibm[-(train.index),]"
   ]
  },
  {
   "cell_type": "code",
   "execution_count": 15,
   "metadata": {},
   "outputs": [
    {
     "data": {
      "text/html": [
       "1176"
      ],
      "text/latex": [
       "1176"
      ],
      "text/markdown": [
       "1176"
      ],
      "text/plain": [
       "[1] 1176"
      ]
     },
     "metadata": {},
     "output_type": "display_data"
    }
   ],
   "source": [
    "nrow(ibm_train)"
   ]
  },
  {
   "cell_type": "code",
   "execution_count": 16,
   "metadata": {
    "scrolled": true
   },
   "outputs": [
    {
     "data": {
      "text/html": [
       "35"
      ],
      "text/latex": [
       "35"
      ],
      "text/markdown": [
       "35"
      ],
      "text/plain": [
       "[1] 35"
      ]
     },
     "metadata": {},
     "output_type": "display_data"
    }
   ],
   "source": [
    "ncol(ibm_train)"
   ]
  },
  {
   "cell_type": "code",
   "execution_count": 17,
   "metadata": {},
   "outputs": [
    {
     "data": {
      "text/html": [
       "35"
      ],
      "text/latex": [
       "35"
      ],
      "text/markdown": [
       "35"
      ],
      "text/plain": [
       "[1] 35"
      ]
     },
     "metadata": {},
     "output_type": "display_data"
    }
   ],
   "source": [
    "ncol(ibm_test)"
   ]
  },
  {
   "cell_type": "code",
   "execution_count": 18,
   "metadata": {},
   "outputs": [
    {
     "data": {
      "text/html": [
       "294"
      ],
      "text/latex": [
       "294"
      ],
      "text/markdown": [
       "294"
      ],
      "text/plain": [
       "[1] 294"
      ]
     },
     "metadata": {},
     "output_type": "display_data"
    }
   ],
   "source": [
    "nrow(ibm_test)"
   ]
  },
  {
   "cell_type": "code",
   "execution_count": 19,
   "metadata": {
    "scrolled": true
   },
   "outputs": [
    {
     "name": "stdout",
     "output_type": "stream",
     "text": [
      "'data.frame':\t1176 obs. of  35 variables:\n",
      " $ ï..Age                  : int  29 34 46 51 33 29 38 42 56 25 ...\n",
      " $ Attrition               : Factor w/ 2 levels \"No\",\"Yes\": 2 1 1 1 1 1 1 1 1 2 ...\n",
      " $ BusinessTravel          : Factor w/ 3 levels \"Non-Travel\",\"Travel_Frequently\",..: 2 3 3 3 3 3 3 3 2 3 ...\n",
      " $ DailyRate               : int  337 121 706 1469 516 144 723 419 906 688 ...\n",
      " $ Department              : Factor w/ 3 levels \"Human Resources\",..: 2 2 2 2 2 3 3 3 3 2 ...\n",
      " $ DistanceFromHome        : int  14 2 2 8 8 10 2 12 6 3 ...\n",
      " $ Education               : int  1 4 2 4 5 1 4 4 3 3 ...\n",
      " $ EducationField          : Factor w/ 6 levels \"Human Resources\",..: 5 4 2 2 2 3 3 3 2 4 ...\n",
      " $ EmployeeCount           : int  1 1 1 1 1 1 1 1 1 1 ...\n",
      " $ EmployeeNumber          : int  1421 804 1857 296 1515 463 1835 1943 532 538 ...\n",
      " $ EnvironmentSatisfaction : int  3 3 4 2 4 4 2 2 3 1 ...\n",
      " $ Gender                  : Factor w/ 2 levels \"Female\",\"Male\": 1 1 2 2 2 1 1 2 1 2 ...\n",
      " $ HourlyRate              : int  84 86 82 81 69 39 77 77 86 91 ...\n",
      " $ JobInvolvement          : int  3 2 3 2 3 2 1 3 4 3 ...\n",
      " $ JobLevel                : int  3 1 3 3 2 2 2 2 4 1 ...\n",
      " $ JobRole                 : Factor w/ 9 levels \"Healthcare Representative\",..: 1 7 5 6 1 8 9 8 8 3 ...\n",
      " $ JobSatisfaction         : int  4 1 4 2 3 2 4 4 1 1 ...\n",
      " $ MaritalStatus           : Factor w/ 3 levels \"Divorced\",\"Married\",..: 3 3 1 2 3 1 2 1 2 2 ...\n",
      " $ MonthlyIncome           : int  7553 4381 8578 12490 6388 8268 5405 5087 13212 4031 ...\n",
      " $ MonthlyRate             : int  22930 7530 19989 15736 22049 11866 4244 2900 18256 9396 ...\n",
      " $ NumCompaniesWorked      : int  0 1 3 5 2 1 2 3 9 5 ...\n",
      " $ Over18                  : Factor w/ 1 level \"Y\": 1 1 1 1 1 1 1 1 1 1 ...\n",
      " $ OverTime                : Factor w/ 2 levels \"No\",\"Yes\": 2 1 1 1 2 2 2 2 1 1 ...\n",
      " $ PercentSalaryHike       : int  12 11 14 16 17 14 20 12 11 13 ...\n",
      " $ PerformanceRating       : int  3 3 3 3 3 3 4 3 3 3 ...\n",
      " $ RelationshipSatisfaction: int  1 3 3 4 1 1 1 3 4 3 ...\n",
      " $ StandardHours           : int  80 80 80 80 80 80 80 80 80 80 ...\n",
      " $ StockOptionLevel        : int  0 0 1 2 0 2 2 2 3 1 ...\n",
      " $ TotalWorkingYears       : int  9 6 12 16 14 7 20 14 36 6 ...\n",
      " $ TrainingTimesLastYear   : int  1 3 4 5 6 2 4 4 0 5 ...\n",
      " $ WorkLifeBalance         : int  3 3 2 1 3 3 2 3 2 3 ...\n",
      " $ YearsAtCompany          : int  8 6 9 10 0 7 4 0 7 2 ...\n",
      " $ YearsInCurrentRole      : int  7 5 8 9 0 7 2 0 7 2 ...\n",
      " $ YearsSinceLastPromotion : int  7 1 4 4 0 1 0 0 7 0 ...\n",
      " $ YearsWithCurrManager    : int  7 3 7 7 0 7 3 0 7 2 ...\n"
     ]
    }
   ],
   "source": [
    "str(ibm_train)"
   ]
  },
  {
   "cell_type": "code",
   "execution_count": 20,
   "metadata": {},
   "outputs": [],
   "source": [
    "colnames(ibm_train)[1]<-'Age'"
   ]
  },
  {
   "cell_type": "code",
   "execution_count": 21,
   "metadata": {},
   "outputs": [],
   "source": [
    "colnames(ibm_test)[1]<-'Age'"
   ]
  },
  {
   "cell_type": "code",
   "execution_count": 22,
   "metadata": {},
   "outputs": [],
   "source": [
    "ibm_train$Over18<-NULL"
   ]
  },
  {
   "cell_type": "code",
   "execution_count": 23,
   "metadata": {},
   "outputs": [],
   "source": [
    "ibm_test$Over18<-NULL"
   ]
  },
  {
   "cell_type": "markdown",
   "metadata": {},
   "source": [
    "# EDA"
   ]
  },
  {
   "cell_type": "code",
   "execution_count": 25,
   "metadata": {},
   "outputs": [],
   "source": [
    "library(ggplot2)"
   ]
  },
  {
   "cell_type": "code",
   "execution_count": 32,
   "metadata": {},
   "outputs": [
    {
     "name": "stderr",
     "output_type": "stream",
     "text": [
      "Warning message:\n",
      "\"package 'gridextra' is not available (for R version 3.6.1)\"Warning message:\n",
      "\"Perhaps you meant 'gridExtra' ?\""
     ]
    }
   ],
   "source": [
    "install.packages('gridextra')"
   ]
  },
  {
   "cell_type": "code",
   "execution_count": 34,
   "metadata": {
    "scrolled": true
   },
   "outputs": [
    {
     "data": {
      "text/html": [
       "<style>\n",
       ".list-inline {list-style: none; margin:0; padding: 0}\n",
       ".list-inline>li {display: inline-block}\n",
       ".list-inline>li:not(:last-child)::after {content: \"\\00b7\"; padding: 0 .5ex}\n",
       "</style>\n",
       "<ol class=list-inline><li>'grid'</li><li>'ggplot2'</li><li>'stats'</li><li>'graphics'</li><li>'grDevices'</li><li>'utils'</li><li>'datasets'</li><li>'methods'</li><li>'base'</li></ol>\n"
      ],
      "text/latex": [
       "\\begin{enumerate*}\n",
       "\\item 'grid'\n",
       "\\item 'ggplot2'\n",
       "\\item 'stats'\n",
       "\\item 'graphics'\n",
       "\\item 'grDevices'\n",
       "\\item 'utils'\n",
       "\\item 'datasets'\n",
       "\\item 'methods'\n",
       "\\item 'base'\n",
       "\\end{enumerate*}\n"
      ],
      "text/markdown": [
       "1. 'grid'\n",
       "2. 'ggplot2'\n",
       "3. 'stats'\n",
       "4. 'graphics'\n",
       "5. 'grDevices'\n",
       "6. 'utils'\n",
       "7. 'datasets'\n",
       "8. 'methods'\n",
       "9. 'base'\n",
       "\n",
       "\n"
      ],
      "text/plain": [
       "[1] \"grid\"      \"ggplot2\"   \"stats\"     \"graphics\"  \"grDevices\" \"utils\"    \n",
       "[7] \"datasets\"  \"methods\"   \"base\"     "
      ]
     },
     "metadata": {},
     "output_type": "display_data"
    },
    {
     "data": {
      "text/html": [
       "<style>\n",
       ".list-inline {list-style: none; margin:0; padding: 0}\n",
       ".list-inline>li {display: inline-block}\n",
       ".list-inline>li:not(:last-child)::after {content: \"\\00b7\"; padding: 0 .5ex}\n",
       "</style>\n",
       "<ol class=list-inline><li>'grid'</li><li>'ggplot2'</li><li>'stats'</li><li>'graphics'</li><li>'grDevices'</li><li>'utils'</li><li>'datasets'</li><li>'methods'</li><li>'base'</li></ol>\n"
      ],
      "text/latex": [
       "\\begin{enumerate*}\n",
       "\\item 'grid'\n",
       "\\item 'ggplot2'\n",
       "\\item 'stats'\n",
       "\\item 'graphics'\n",
       "\\item 'grDevices'\n",
       "\\item 'utils'\n",
       "\\item 'datasets'\n",
       "\\item 'methods'\n",
       "\\item 'base'\n",
       "\\end{enumerate*}\n"
      ],
      "text/markdown": [
       "1. 'grid'\n",
       "2. 'ggplot2'\n",
       "3. 'stats'\n",
       "4. 'graphics'\n",
       "5. 'grDevices'\n",
       "6. 'utils'\n",
       "7. 'datasets'\n",
       "8. 'methods'\n",
       "9. 'base'\n",
       "\n",
       "\n"
      ],
      "text/plain": [
       "[1] \"grid\"      \"ggplot2\"   \"stats\"     \"graphics\"  \"grDevices\" \"utils\"    \n",
       "[7] \"datasets\"  \"methods\"   \"base\"     "
      ]
     },
     "metadata": {},
     "output_type": "display_data"
    },
    {
     "ename": "ERROR",
     "evalue": "Error in library(gridExtra): there is no package called 'gridExtra'\n",
     "output_type": "error",
     "traceback": [
      "Error in library(gridExtra): there is no package called 'gridExtra'\nTraceback:\n",
      "1. library(gridExtra)"
     ]
    }
   ],
   "source": [
    "\n",
    "(library(ggplot2))\n",
    "(library(grid))\n",
    "(library(gridExtra))\n",
    "(library(dplyr))\n",
    "(library(rpart))\n",
    "(library(rpart.plot))\n",
    "(library(randomForest))\n",
    "(library(caret))\n",
    "(library(gbm))\n",
    "(library(survival))\n",
    "(library(pROC))\n",
    "(library(DMwR))\n",
    "(library(scales))"
   ]
  },
  {
   "cell_type": "code",
   "execution_count": 35,
   "metadata": {},
   "outputs": [
    {
     "ename": "ERROR",
     "evalue": "Error in library(gridextra): there is no package called 'gridextra'\n",
     "output_type": "error",
     "traceback": [
      "Error in library(gridextra): there is no package called 'gridextra'\nTraceback:\n",
      "1. library(gridextra)"
     ]
    }
   ],
   "source": [
    "library(gridextra)"
   ]
  },
  {
   "cell_type": "code",
   "execution_count": 27,
   "metadata": {},
   "outputs": [],
   "source": [
    "P1 <- ggplot(ibm, \n",
    "            aes(x = MonthlyIncome, fill = Attrition)) + \n",
    "            geom_density(alpha = 0.7) + \n",
    "            scale_fill_manual(values = c(\"#386cb0\",\"#fdb462\"))"
   ]
  },
  {
   "cell_type": "code",
   "execution_count": 28,
   "metadata": {},
   "outputs": [],
   "source": [
    "\n",
    "P2 <- ggplot(ibm, \n",
    "            aes(x = HourlyRate, fill = Attrition)) + \n",
    "            geom_density(alpha = 0.7) + \n",
    "            scale_fill_manual(values = c(\"#386cb0\",\"#fdb462\"))"
   ]
  },
  {
   "cell_type": "code",
   "execution_count": 30,
   "metadata": {},
   "outputs": [
    {
     "ename": "ERROR",
     "evalue": "Error in eval(expr, envir, enclos): object 'P1' not found\n",
     "output_type": "error",
     "traceback": [
      "Error in eval(expr, envir, enclos): object 'P1' not found\nTraceback:\n"
     ]
    }
   ],
   "source": [
    "P1"
   ]
  },
  {
   "cell_type": "code",
   "execution_count": 29,
   "metadata": {},
   "outputs": [
    {
     "ename": "ERROR",
     "evalue": "Error in grid.arrange(P1, P2, ncol = 2, nrow = 2): could not find function \"grid.arrange\"\n",
     "output_type": "error",
     "traceback": [
      "Error in grid.arrange(P1, P2, ncol = 2, nrow = 2): could not find function \"grid.arrange\"\nTraceback:\n"
     ]
    }
   ],
   "source": [
    "\n",
    "grid.arrange(P1,P2, ncol = 2, nrow = 2)"
   ]
  },
  {
   "cell_type": "markdown",
   "metadata": {},
   "source": [
    "# Reggression Model"
   ]
  },
  {
   "cell_type": "code",
   "execution_count": 218,
   "metadata": {},
   "outputs": [],
   "source": [
    "IBM_Model<-glm(Attrition~.,data=ibm_train,family=binomial('logit'))"
   ]
  },
  {
   "cell_type": "code",
   "execution_count": 219,
   "metadata": {},
   "outputs": [
    {
     "data": {
      "text/plain": [
       "\n",
       "Call:\n",
       "glm(formula = Attrition ~ ., family = binomial(\"logit\"), data = ibm_train)\n",
       "\n",
       "Deviance Residuals: \n",
       "    Min       1Q   Median       3Q      Max  \n",
       "-1.7169  -0.4868  -0.2637  -0.0975   3.3823  \n",
       "\n",
       "Coefficients: (2 not defined because of singularities)\n",
       "                                   Estimate Std. Error z value Pr(>|z|)    \n",
       "(Intercept)                      -1.117e+01  4.267e+02  -0.026 0.979116    \n",
       "Age                              -2.665e-02  1.537e-02  -1.734 0.082974 .  \n",
       "BusinessTravelTravel_Frequently   1.732e+00  4.538e-01   3.815 0.000136 ***\n",
       "BusinessTravelTravel_Rarely       9.819e-01  4.179e-01   2.350 0.018786 *  \n",
       "DailyRate                        -2.269e-04  2.448e-04  -0.927 0.354118    \n",
       "DepartmentResearch & Development  1.278e+01  4.267e+02   0.030 0.976109    \n",
       "DepartmentSales                   1.270e+01  4.267e+02   0.030 0.976256    \n",
       "DistanceFromHome                  4.498e-02  1.205e-02   3.733 0.000189 ***\n",
       "Education                        -3.959e-02  9.933e-02  -0.399 0.690174    \n",
       "EducationFieldLife Sciences      -6.281e-01  8.429e-01  -0.745 0.456148    \n",
       "EducationFieldMarketing          -2.456e-02  9.015e-01  -0.027 0.978264    \n",
       "EducationFieldMedical            -6.681e-01  8.416e-01  -0.794 0.427280    \n",
       "EducationFieldOther              -5.216e-01  9.009e-01  -0.579 0.562570    \n",
       "EducationFieldTechnical Degree    3.339e-01  8.640e-01   0.387 0.699122    \n",
       "EmployeeCount                            NA         NA      NA       NA    \n",
       "EmployeeNumber                   -2.116e-04  1.684e-04  -1.257 0.208832    \n",
       "EnvironmentSatisfaction          -4.280e-01  9.217e-02  -4.644 3.43e-06 ***\n",
       "GenderMale                        3.953e-01  2.047e-01   1.931 0.053488 .  \n",
       "HourlyRate                        1.335e-03  4.904e-03   0.272 0.785383    \n",
       "JobInvolvement                   -5.582e-01  1.333e-01  -4.188 2.82e-05 ***\n",
       "JobLevel                          3.666e-02  3.512e-01   0.104 0.916884    \n",
       "JobRoleHuman Resources            1.446e+01  4.267e+02   0.034 0.972974    \n",
       "JobRoleLaboratory Technician      1.545e+00  5.476e-01   2.821 0.004786 ** \n",
       "JobRoleManager                    5.175e-01  9.453e-01   0.547 0.584098    \n",
       "JobRoleManufacturing Director     4.814e-01  5.919e-01   0.813 0.416052    \n",
       "JobRoleResearch Director         -9.280e-01  1.035e+00  -0.896 0.370004    \n",
       "JobRoleResearch Scientist         8.075e-01  5.542e-01   1.457 0.145095    \n",
       "JobRoleSales Executive            1.073e+00  1.181e+00   0.909 0.363453    \n",
       "JobRoleSales Representative       2.240e+00  1.237e+00   1.812 0.070045 .  \n",
       "JobSatisfaction                  -3.569e-01  8.994e-02  -3.968 7.25e-05 ***\n",
       "MaritalStatusMarried              4.608e-01  2.972e-01   1.550 0.121099    \n",
       "MaritalStatusSingle               1.232e+00  3.919e-01   3.143 0.001672 ** \n",
       "MonthlyIncome                     1.075e-06  9.094e-05   0.012 0.990564    \n",
       "MonthlyRate                       8.097e-06  1.384e-05   0.585 0.558544    \n",
       "NumCompaniesWorked                2.031e-01  4.307e-02   4.715 2.41e-06 ***\n",
       "OverTimeYes                       1.938e+00  2.136e-01   9.071  < 2e-16 ***\n",
       "PercentSalaryHike                -4.122e-02  4.510e-02  -0.914 0.360721    \n",
       "PerformanceRating                 2.336e-01  4.550e-01   0.513 0.607715    \n",
       "RelationshipSatisfaction         -2.452e-01  9.255e-02  -2.649 0.008069 ** \n",
       "StandardHours                            NA         NA      NA       NA    \n",
       "StockOptionLevel                 -1.782e-01  1.784e-01  -0.999 0.318008    \n",
       "TotalWorkingYears                -6.588e-02  3.417e-02  -1.928 0.053853 .  \n",
       "TrainingTimesLastYear            -2.413e-01  8.331e-02  -2.896 0.003776 ** \n",
       "WorkLifeBalance                  -2.965e-01  1.383e-01  -2.145 0.031980 *  \n",
       "YearsAtCompany                    8.634e-02  4.184e-02   2.064 0.039062 *  \n",
       "YearsInCurrentRole               -1.527e-01  4.916e-02  -3.106 0.001899 ** \n",
       "YearsSinceLastPromotion           1.542e-01  4.657e-02   3.312 0.000927 ***\n",
       "YearsWithCurrManager             -1.116e-01  5.258e-02  -2.122 0.033879 *  \n",
       "---\n",
       "Signif. codes:  0 '***' 0.001 '**' 0.01 '*' 0.05 '.' 0.1 ' ' 1\n",
       "\n",
       "(Dispersion parameter for binomial family taken to be 1)\n",
       "\n",
       "    Null deviance: 1046.75  on 1175  degrees of freedom\n",
       "Residual deviance:  701.33  on 1130  degrees of freedom\n",
       "AIC: 793.33\n",
       "\n",
       "Number of Fisher Scoring iterations: 14\n"
      ]
     },
     "metadata": {},
     "output_type": "display_data"
    }
   ],
   "source": [
    "summary(IBM_Model)"
   ]
  },
  {
   "cell_type": "markdown",
   "metadata": {},
   "source": [
    "# Removing the columns which is non significant"
   ]
  },
  {
   "cell_type": "code",
   "execution_count": 220,
   "metadata": {},
   "outputs": [
    {
     "data": {
      "text/html": [
       "<style>\n",
       ".list-inline {list-style: none; margin:0; padding: 0}\n",
       ".list-inline>li {display: inline-block}\n",
       ".list-inline>li:not(:last-child)::after {content: \"\\00b7\"; padding: 0 .5ex}\n",
       "</style>\n",
       "<ol class=list-inline><li>'Age'</li><li>'Attrition'</li><li>'BusinessTravel'</li><li>'DailyRate'</li><li>'Department'</li><li>'DistanceFromHome'</li><li>'Education'</li><li>'EducationField'</li><li>'EmployeeCount'</li><li>'EmployeeNumber'</li><li>'EnvironmentSatisfaction'</li><li>'Gender'</li><li>'HourlyRate'</li><li>'JobInvolvement'</li><li>'JobLevel'</li><li>'JobRole'</li><li>'JobSatisfaction'</li><li>'MaritalStatus'</li><li>'MonthlyIncome'</li><li>'MonthlyRate'</li><li>'NumCompaniesWorked'</li><li>'OverTime'</li><li>'PercentSalaryHike'</li><li>'PerformanceRating'</li><li>'RelationshipSatisfaction'</li><li>'StandardHours'</li><li>'StockOptionLevel'</li><li>'TotalWorkingYears'</li><li>'TrainingTimesLastYear'</li><li>'WorkLifeBalance'</li><li>'YearsAtCompany'</li><li>'YearsInCurrentRole'</li><li>'YearsSinceLastPromotion'</li><li>'YearsWithCurrManager'</li></ol>\n"
      ],
      "text/latex": [
       "\\begin{enumerate*}\n",
       "\\item 'Age'\n",
       "\\item 'Attrition'\n",
       "\\item 'BusinessTravel'\n",
       "\\item 'DailyRate'\n",
       "\\item 'Department'\n",
       "\\item 'DistanceFromHome'\n",
       "\\item 'Education'\n",
       "\\item 'EducationField'\n",
       "\\item 'EmployeeCount'\n",
       "\\item 'EmployeeNumber'\n",
       "\\item 'EnvironmentSatisfaction'\n",
       "\\item 'Gender'\n",
       "\\item 'HourlyRate'\n",
       "\\item 'JobInvolvement'\n",
       "\\item 'JobLevel'\n",
       "\\item 'JobRole'\n",
       "\\item 'JobSatisfaction'\n",
       "\\item 'MaritalStatus'\n",
       "\\item 'MonthlyIncome'\n",
       "\\item 'MonthlyRate'\n",
       "\\item 'NumCompaniesWorked'\n",
       "\\item 'OverTime'\n",
       "\\item 'PercentSalaryHike'\n",
       "\\item 'PerformanceRating'\n",
       "\\item 'RelationshipSatisfaction'\n",
       "\\item 'StandardHours'\n",
       "\\item 'StockOptionLevel'\n",
       "\\item 'TotalWorkingYears'\n",
       "\\item 'TrainingTimesLastYear'\n",
       "\\item 'WorkLifeBalance'\n",
       "\\item 'YearsAtCompany'\n",
       "\\item 'YearsInCurrentRole'\n",
       "\\item 'YearsSinceLastPromotion'\n",
       "\\item 'YearsWithCurrManager'\n",
       "\\end{enumerate*}\n"
      ],
      "text/markdown": [
       "1. 'Age'\n",
       "2. 'Attrition'\n",
       "3. 'BusinessTravel'\n",
       "4. 'DailyRate'\n",
       "5. 'Department'\n",
       "6. 'DistanceFromHome'\n",
       "7. 'Education'\n",
       "8. 'EducationField'\n",
       "9. 'EmployeeCount'\n",
       "10. 'EmployeeNumber'\n",
       "11. 'EnvironmentSatisfaction'\n",
       "12. 'Gender'\n",
       "13. 'HourlyRate'\n",
       "14. 'JobInvolvement'\n",
       "15. 'JobLevel'\n",
       "16. 'JobRole'\n",
       "17. 'JobSatisfaction'\n",
       "18. 'MaritalStatus'\n",
       "19. 'MonthlyIncome'\n",
       "20. 'MonthlyRate'\n",
       "21. 'NumCompaniesWorked'\n",
       "22. 'OverTime'\n",
       "23. 'PercentSalaryHike'\n",
       "24. 'PerformanceRating'\n",
       "25. 'RelationshipSatisfaction'\n",
       "26. 'StandardHours'\n",
       "27. 'StockOptionLevel'\n",
       "28. 'TotalWorkingYears'\n",
       "29. 'TrainingTimesLastYear'\n",
       "30. 'WorkLifeBalance'\n",
       "31. 'YearsAtCompany'\n",
       "32. 'YearsInCurrentRole'\n",
       "33. 'YearsSinceLastPromotion'\n",
       "34. 'YearsWithCurrManager'\n",
       "\n",
       "\n"
      ],
      "text/plain": [
       " [1] \"Age\"                      \"Attrition\"               \n",
       " [3] \"BusinessTravel\"           \"DailyRate\"               \n",
       " [5] \"Department\"               \"DistanceFromHome\"        \n",
       " [7] \"Education\"                \"EducationField\"          \n",
       " [9] \"EmployeeCount\"            \"EmployeeNumber\"          \n",
       "[11] \"EnvironmentSatisfaction\"  \"Gender\"                  \n",
       "[13] \"HourlyRate\"               \"JobInvolvement\"          \n",
       "[15] \"JobLevel\"                 \"JobRole\"                 \n",
       "[17] \"JobSatisfaction\"          \"MaritalStatus\"           \n",
       "[19] \"MonthlyIncome\"            \"MonthlyRate\"             \n",
       "[21] \"NumCompaniesWorked\"       \"OverTime\"                \n",
       "[23] \"PercentSalaryHike\"        \"PerformanceRating\"       \n",
       "[25] \"RelationshipSatisfaction\" \"StandardHours\"           \n",
       "[27] \"StockOptionLevel\"         \"TotalWorkingYears\"       \n",
       "[29] \"TrainingTimesLastYear\"    \"WorkLifeBalance\"         \n",
       "[31] \"YearsAtCompany\"           \"YearsInCurrentRole\"      \n",
       "[33] \"YearsSinceLastPromotion\"  \"YearsWithCurrManager\"    "
      ]
     },
     "metadata": {},
     "output_type": "display_data"
    }
   ],
   "source": [
    "names(ibm_train)"
   ]
  },
  {
   "cell_type": "code",
   "execution_count": 221,
   "metadata": {},
   "outputs": [
    {
     "data": {
      "text/html": [
       "<style>\n",
       ".list-inline {list-style: none; margin:0; padding: 0}\n",
       ".list-inline>li {display: inline-block}\n",
       ".list-inline>li:not(:last-child)::after {content: \"\\00b7\"; padding: 0 .5ex}\n",
       "</style>\n",
       "<ol class=list-inline><li>'Age'</li><li>'Attrition'</li><li>'BusinessTravel'</li><li>'DailyRate'</li><li>'Department'</li><li>'DistanceFromHome'</li><li>'Education'</li><li>'EducationField'</li><li>'EmployeeCount'</li><li>'EmployeeNumber'</li><li>'EnvironmentSatisfaction'</li><li>'Gender'</li><li>'HourlyRate'</li><li>'JobInvolvement'</li><li>'JobLevel'</li><li>'JobRole'</li><li>'JobSatisfaction'</li><li>'MaritalStatus'</li><li>'MonthlyIncome'</li><li>'MonthlyRate'</li><li>'NumCompaniesWorked'</li><li>'OverTime'</li><li>'PercentSalaryHike'</li><li>'PerformanceRating'</li><li>'RelationshipSatisfaction'</li><li>'StandardHours'</li><li>'StockOptionLevel'</li><li>'TotalWorkingYears'</li><li>'TrainingTimesLastYear'</li><li>'WorkLifeBalance'</li><li>'YearsAtCompany'</li><li>'YearsInCurrentRole'</li><li>'YearsSinceLastPromotion'</li><li>'YearsWithCurrManager'</li></ol>\n"
      ],
      "text/latex": [
       "\\begin{enumerate*}\n",
       "\\item 'Age'\n",
       "\\item 'Attrition'\n",
       "\\item 'BusinessTravel'\n",
       "\\item 'DailyRate'\n",
       "\\item 'Department'\n",
       "\\item 'DistanceFromHome'\n",
       "\\item 'Education'\n",
       "\\item 'EducationField'\n",
       "\\item 'EmployeeCount'\n",
       "\\item 'EmployeeNumber'\n",
       "\\item 'EnvironmentSatisfaction'\n",
       "\\item 'Gender'\n",
       "\\item 'HourlyRate'\n",
       "\\item 'JobInvolvement'\n",
       "\\item 'JobLevel'\n",
       "\\item 'JobRole'\n",
       "\\item 'JobSatisfaction'\n",
       "\\item 'MaritalStatus'\n",
       "\\item 'MonthlyIncome'\n",
       "\\item 'MonthlyRate'\n",
       "\\item 'NumCompaniesWorked'\n",
       "\\item 'OverTime'\n",
       "\\item 'PercentSalaryHike'\n",
       "\\item 'PerformanceRating'\n",
       "\\item 'RelationshipSatisfaction'\n",
       "\\item 'StandardHours'\n",
       "\\item 'StockOptionLevel'\n",
       "\\item 'TotalWorkingYears'\n",
       "\\item 'TrainingTimesLastYear'\n",
       "\\item 'WorkLifeBalance'\n",
       "\\item 'YearsAtCompany'\n",
       "\\item 'YearsInCurrentRole'\n",
       "\\item 'YearsSinceLastPromotion'\n",
       "\\item 'YearsWithCurrManager'\n",
       "\\end{enumerate*}\n"
      ],
      "text/markdown": [
       "1. 'Age'\n",
       "2. 'Attrition'\n",
       "3. 'BusinessTravel'\n",
       "4. 'DailyRate'\n",
       "5. 'Department'\n",
       "6. 'DistanceFromHome'\n",
       "7. 'Education'\n",
       "8. 'EducationField'\n",
       "9. 'EmployeeCount'\n",
       "10. 'EmployeeNumber'\n",
       "11. 'EnvironmentSatisfaction'\n",
       "12. 'Gender'\n",
       "13. 'HourlyRate'\n",
       "14. 'JobInvolvement'\n",
       "15. 'JobLevel'\n",
       "16. 'JobRole'\n",
       "17. 'JobSatisfaction'\n",
       "18. 'MaritalStatus'\n",
       "19. 'MonthlyIncome'\n",
       "20. 'MonthlyRate'\n",
       "21. 'NumCompaniesWorked'\n",
       "22. 'OverTime'\n",
       "23. 'PercentSalaryHike'\n",
       "24. 'PerformanceRating'\n",
       "25. 'RelationshipSatisfaction'\n",
       "26. 'StandardHours'\n",
       "27. 'StockOptionLevel'\n",
       "28. 'TotalWorkingYears'\n",
       "29. 'TrainingTimesLastYear'\n",
       "30. 'WorkLifeBalance'\n",
       "31. 'YearsAtCompany'\n",
       "32. 'YearsInCurrentRole'\n",
       "33. 'YearsSinceLastPromotion'\n",
       "34. 'YearsWithCurrManager'\n",
       "\n",
       "\n"
      ],
      "text/plain": [
       " [1] \"Age\"                      \"Attrition\"               \n",
       " [3] \"BusinessTravel\"           \"DailyRate\"               \n",
       " [5] \"Department\"               \"DistanceFromHome\"        \n",
       " [7] \"Education\"                \"EducationField\"          \n",
       " [9] \"EmployeeCount\"            \"EmployeeNumber\"          \n",
       "[11] \"EnvironmentSatisfaction\"  \"Gender\"                  \n",
       "[13] \"HourlyRate\"               \"JobInvolvement\"          \n",
       "[15] \"JobLevel\"                 \"JobRole\"                 \n",
       "[17] \"JobSatisfaction\"          \"MaritalStatus\"           \n",
       "[19] \"MonthlyIncome\"            \"MonthlyRate\"             \n",
       "[21] \"NumCompaniesWorked\"       \"OverTime\"                \n",
       "[23] \"PercentSalaryHike\"        \"PerformanceRating\"       \n",
       "[25] \"RelationshipSatisfaction\" \"StandardHours\"           \n",
       "[27] \"StockOptionLevel\"         \"TotalWorkingYears\"       \n",
       "[29] \"TrainingTimesLastYear\"    \"WorkLifeBalance\"         \n",
       "[31] \"YearsAtCompany\"           \"YearsInCurrentRole\"      \n",
       "[33] \"YearsSinceLastPromotion\"  \"YearsWithCurrManager\"    "
      ]
     },
     "metadata": {},
     "output_type": "display_data"
    }
   ],
   "source": [
    "names(ibm_test)"
   ]
  },
  {
   "cell_type": "code",
   "execution_count": 222,
   "metadata": {},
   "outputs": [
    {
     "data": {
      "text/html": [
       "34"
      ],
      "text/latex": [
       "34"
      ],
      "text/markdown": [
       "34"
      ],
      "text/plain": [
       "[1] 34"
      ]
     },
     "metadata": {},
     "output_type": "display_data"
    }
   ],
   "source": [
    "ncol(ibm_train)"
   ]
  },
  {
   "cell_type": "code",
   "execution_count": 223,
   "metadata": {},
   "outputs": [
    {
     "data": {
      "text/html": [
       "34"
      ],
      "text/latex": [
       "34"
      ],
      "text/markdown": [
       "34"
      ],
      "text/plain": [
       "[1] 34"
      ]
     },
     "metadata": {},
     "output_type": "display_data"
    }
   ],
   "source": [
    "ncol(ibm_test)"
   ]
  },
  {
   "cell_type": "code",
   "execution_count": null,
   "metadata": {},
   "outputs": [],
   "source": [
    "FOR IBM TRAIN "
   ]
  },
  {
   "cell_type": "code",
   "execution_count": 224,
   "metadata": {},
   "outputs": [],
   "source": [
    "ibm_train$Age<-NULL"
   ]
  },
  {
   "cell_type": "code",
   "execution_count": 225,
   "metadata": {},
   "outputs": [],
   "source": [
    "ibm_train$DailyRate<-NULL"
   ]
  },
  {
   "cell_type": "code",
   "execution_count": 226,
   "metadata": {},
   "outputs": [],
   "source": [
    "ibm_train$Department<-NULL"
   ]
  },
  {
   "cell_type": "code",
   "execution_count": 227,
   "metadata": {},
   "outputs": [],
   "source": [
    "ibm_train$Education<-NULL"
   ]
  },
  {
   "cell_type": "code",
   "execution_count": 228,
   "metadata": {},
   "outputs": [],
   "source": [
    "ibm_train$EducationField<-NULL"
   ]
  },
  {
   "cell_type": "code",
   "execution_count": 229,
   "metadata": {},
   "outputs": [],
   "source": [
    "ibm_train$EmployeeCount<-NULL"
   ]
  },
  {
   "cell_type": "code",
   "execution_count": 230,
   "metadata": {},
   "outputs": [],
   "source": [
    "ibm_train$EmployeeNumber<-NULL"
   ]
  },
  {
   "cell_type": "code",
   "execution_count": 231,
   "metadata": {},
   "outputs": [],
   "source": [
    "ibm_train$Gender<-NULL"
   ]
  },
  {
   "cell_type": "code",
   "execution_count": 232,
   "metadata": {},
   "outputs": [],
   "source": [
    "ibm_train$HourlyRate<-NULL"
   ]
  },
  {
   "cell_type": "code",
   "execution_count": 234,
   "metadata": {},
   "outputs": [],
   "source": [
    "ibm_train$JobLevel<-NULL"
   ]
  },
  {
   "cell_type": "code",
   "execution_count": 235,
   "metadata": {},
   "outputs": [],
   "source": [
    "ibm_train$JobRole<-NULL"
   ]
  },
  {
   "cell_type": "code",
   "execution_count": 236,
   "metadata": {},
   "outputs": [],
   "source": [
    "ibm_train$MonthlyIncome<-NULL"
   ]
  },
  {
   "cell_type": "code",
   "execution_count": 237,
   "metadata": {},
   "outputs": [],
   "source": [
    "ibm_train$MonthlyRate<-NULL"
   ]
  },
  {
   "cell_type": "code",
   "execution_count": 238,
   "metadata": {},
   "outputs": [],
   "source": [
    "ibm_train$PercentSalaryHike<-NULL"
   ]
  },
  {
   "cell_type": "code",
   "execution_count": 239,
   "metadata": {},
   "outputs": [],
   "source": [
    "ibm_train$PerformanceRating<-NULL"
   ]
  },
  {
   "cell_type": "code",
   "execution_count": 240,
   "metadata": {},
   "outputs": [],
   "source": [
    "ibm_train$StandardHours<-NULL"
   ]
  },
  {
   "cell_type": "code",
   "execution_count": 241,
   "metadata": {},
   "outputs": [],
   "source": [
    "ibm_train$StockOptionLevel<-NULL"
   ]
  },
  {
   "cell_type": "code",
   "execution_count": 242,
   "metadata": {},
   "outputs": [],
   "source": [
    "ibm_train$TotalWorkingYears<-NULL"
   ]
  },
  {
   "cell_type": "code",
   "execution_count": 243,
   "metadata": {},
   "outputs": [],
   "source": [
    "ibm_train$TotalWorkingYears<-NULL"
   ]
  },
  {
   "cell_type": "code",
   "execution_count": null,
   "metadata": {},
   "outputs": [],
   "source": [
    "FOR IBM TEST"
   ]
  },
  {
   "cell_type": "code",
   "execution_count": 244,
   "metadata": {},
   "outputs": [],
   "source": [
    "ibm_test$Age<-NULL\n",
    "ibm_test$DailyRate<-NULL\n",
    "ibm_test$Department<-NULL\n",
    "ibm_test$Education<-NULL\n",
    "ibm_test$EducationField<-NULL\n",
    "ibm_test$EmployeeCount<-NULL\n",
    "ibm_test$EmployeeNumber<-NULL\n",
    "ibm_test$Gender<-NULL\n",
    "ibm_test$HourlyRate<-NULL\n",
    "ibm_test$JobLevel<-NULL\n",
    "ibm_test$JobRole<-NULL\n",
    "ibm_test$MonthlyIncome<-NULL\n",
    "ibm_test$MonthlyRate<-NULL\n",
    "ibm_test$PercentSalaryHike<-NULL\n",
    "ibm_test$PerformanceRating<-NULL\n",
    "ibm_test$StandardHours<-NULL\n",
    "ibm_test$StockOptionLevel<-NULL\n",
    "ibm_test$TotalWorkingYears<-NULL\n",
    "ibm_test$TotalWorkingYears<-NULL\n"
   ]
  },
  {
   "cell_type": "code",
   "execution_count": 245,
   "metadata": {},
   "outputs": [
    {
     "data": {
      "text/html": [
       "16"
      ],
      "text/latex": [
       "16"
      ],
      "text/markdown": [
       "16"
      ],
      "text/plain": [
       "[1] 16"
      ]
     },
     "metadata": {},
     "output_type": "display_data"
    }
   ],
   "source": [
    "ncol(ibm_train)"
   ]
  },
  {
   "cell_type": "code",
   "execution_count": 246,
   "metadata": {},
   "outputs": [
    {
     "data": {
      "text/html": [
       "16"
      ],
      "text/latex": [
       "16"
      ],
      "text/markdown": [
       "16"
      ],
      "text/plain": [
       "[1] 16"
      ]
     },
     "metadata": {},
     "output_type": "display_data"
    }
   ],
   "source": [
    "ncol(ibm_test)"
   ]
  },
  {
   "cell_type": "code",
   "execution_count": 247,
   "metadata": {
    "scrolled": true
   },
   "outputs": [
    {
     "data": {
      "text/html": [
       "<style>\n",
       ".list-inline {list-style: none; margin:0; padding: 0}\n",
       ".list-inline>li {display: inline-block}\n",
       ".list-inline>li:not(:last-child)::after {content: \"\\00b7\"; padding: 0 .5ex}\n",
       "</style>\n",
       "<ol class=list-inline><li>'Attrition'</li><li>'BusinessTravel'</li><li>'DistanceFromHome'</li><li>'EnvironmentSatisfaction'</li><li>'JobInvolvement'</li><li>'JobSatisfaction'</li><li>'MaritalStatus'</li><li>'NumCompaniesWorked'</li><li>'OverTime'</li><li>'RelationshipSatisfaction'</li><li>'TrainingTimesLastYear'</li><li>'WorkLifeBalance'</li><li>'YearsAtCompany'</li><li>'YearsInCurrentRole'</li><li>'YearsSinceLastPromotion'</li><li>'YearsWithCurrManager'</li></ol>\n"
      ],
      "text/latex": [
       "\\begin{enumerate*}\n",
       "\\item 'Attrition'\n",
       "\\item 'BusinessTravel'\n",
       "\\item 'DistanceFromHome'\n",
       "\\item 'EnvironmentSatisfaction'\n",
       "\\item 'JobInvolvement'\n",
       "\\item 'JobSatisfaction'\n",
       "\\item 'MaritalStatus'\n",
       "\\item 'NumCompaniesWorked'\n",
       "\\item 'OverTime'\n",
       "\\item 'RelationshipSatisfaction'\n",
       "\\item 'TrainingTimesLastYear'\n",
       "\\item 'WorkLifeBalance'\n",
       "\\item 'YearsAtCompany'\n",
       "\\item 'YearsInCurrentRole'\n",
       "\\item 'YearsSinceLastPromotion'\n",
       "\\item 'YearsWithCurrManager'\n",
       "\\end{enumerate*}\n"
      ],
      "text/markdown": [
       "1. 'Attrition'\n",
       "2. 'BusinessTravel'\n",
       "3. 'DistanceFromHome'\n",
       "4. 'EnvironmentSatisfaction'\n",
       "5. 'JobInvolvement'\n",
       "6. 'JobSatisfaction'\n",
       "7. 'MaritalStatus'\n",
       "8. 'NumCompaniesWorked'\n",
       "9. 'OverTime'\n",
       "10. 'RelationshipSatisfaction'\n",
       "11. 'TrainingTimesLastYear'\n",
       "12. 'WorkLifeBalance'\n",
       "13. 'YearsAtCompany'\n",
       "14. 'YearsInCurrentRole'\n",
       "15. 'YearsSinceLastPromotion'\n",
       "16. 'YearsWithCurrManager'\n",
       "\n",
       "\n"
      ],
      "text/plain": [
       " [1] \"Attrition\"                \"BusinessTravel\"          \n",
       " [3] \"DistanceFromHome\"         \"EnvironmentSatisfaction\" \n",
       " [5] \"JobInvolvement\"           \"JobSatisfaction\"         \n",
       " [7] \"MaritalStatus\"            \"NumCompaniesWorked\"      \n",
       " [9] \"OverTime\"                 \"RelationshipSatisfaction\"\n",
       "[11] \"TrainingTimesLastYear\"    \"WorkLifeBalance\"         \n",
       "[13] \"YearsAtCompany\"           \"YearsInCurrentRole\"      \n",
       "[15] \"YearsSinceLastPromotion\"  \"YearsWithCurrManager\"    "
      ]
     },
     "metadata": {},
     "output_type": "display_data"
    }
   ],
   "source": [
    "names(ibm_train)"
   ]
  },
  {
   "cell_type": "code",
   "execution_count": 248,
   "metadata": {},
   "outputs": [
    {
     "data": {
      "text/html": [
       "<style>\n",
       ".list-inline {list-style: none; margin:0; padding: 0}\n",
       ".list-inline>li {display: inline-block}\n",
       ".list-inline>li:not(:last-child)::after {content: \"\\00b7\"; padding: 0 .5ex}\n",
       "</style>\n",
       "<ol class=list-inline><li>'Attrition'</li><li>'BusinessTravel'</li><li>'DistanceFromHome'</li><li>'EnvironmentSatisfaction'</li><li>'JobInvolvement'</li><li>'JobSatisfaction'</li><li>'MaritalStatus'</li><li>'NumCompaniesWorked'</li><li>'OverTime'</li><li>'RelationshipSatisfaction'</li><li>'TrainingTimesLastYear'</li><li>'WorkLifeBalance'</li><li>'YearsAtCompany'</li><li>'YearsInCurrentRole'</li><li>'YearsSinceLastPromotion'</li><li>'YearsWithCurrManager'</li></ol>\n"
      ],
      "text/latex": [
       "\\begin{enumerate*}\n",
       "\\item 'Attrition'\n",
       "\\item 'BusinessTravel'\n",
       "\\item 'DistanceFromHome'\n",
       "\\item 'EnvironmentSatisfaction'\n",
       "\\item 'JobInvolvement'\n",
       "\\item 'JobSatisfaction'\n",
       "\\item 'MaritalStatus'\n",
       "\\item 'NumCompaniesWorked'\n",
       "\\item 'OverTime'\n",
       "\\item 'RelationshipSatisfaction'\n",
       "\\item 'TrainingTimesLastYear'\n",
       "\\item 'WorkLifeBalance'\n",
       "\\item 'YearsAtCompany'\n",
       "\\item 'YearsInCurrentRole'\n",
       "\\item 'YearsSinceLastPromotion'\n",
       "\\item 'YearsWithCurrManager'\n",
       "\\end{enumerate*}\n"
      ],
      "text/markdown": [
       "1. 'Attrition'\n",
       "2. 'BusinessTravel'\n",
       "3. 'DistanceFromHome'\n",
       "4. 'EnvironmentSatisfaction'\n",
       "5. 'JobInvolvement'\n",
       "6. 'JobSatisfaction'\n",
       "7. 'MaritalStatus'\n",
       "8. 'NumCompaniesWorked'\n",
       "9. 'OverTime'\n",
       "10. 'RelationshipSatisfaction'\n",
       "11. 'TrainingTimesLastYear'\n",
       "12. 'WorkLifeBalance'\n",
       "13. 'YearsAtCompany'\n",
       "14. 'YearsInCurrentRole'\n",
       "15. 'YearsSinceLastPromotion'\n",
       "16. 'YearsWithCurrManager'\n",
       "\n",
       "\n"
      ],
      "text/plain": [
       " [1] \"Attrition\"                \"BusinessTravel\"          \n",
       " [3] \"DistanceFromHome\"         \"EnvironmentSatisfaction\" \n",
       " [5] \"JobInvolvement\"           \"JobSatisfaction\"         \n",
       " [7] \"MaritalStatus\"            \"NumCompaniesWorked\"      \n",
       " [9] \"OverTime\"                 \"RelationshipSatisfaction\"\n",
       "[11] \"TrainingTimesLastYear\"    \"WorkLifeBalance\"         \n",
       "[13] \"YearsAtCompany\"           \"YearsInCurrentRole\"      \n",
       "[15] \"YearsSinceLastPromotion\"  \"YearsWithCurrManager\"    "
      ]
     },
     "metadata": {},
     "output_type": "display_data"
    }
   ],
   "source": [
    "names(ibm_test)"
   ]
  },
  {
   "cell_type": "code",
   "execution_count": 249,
   "metadata": {},
   "outputs": [],
   "source": [
    "ibm_test$NumCompaniesWorked<-NULL"
   ]
  },
  {
   "cell_type": "code",
   "execution_count": 250,
   "metadata": {},
   "outputs": [],
   "source": [
    "ibm_train$NumCompaniesWorked<-NULL"
   ]
  },
  {
   "cell_type": "code",
   "execution_count": 251,
   "metadata": {},
   "outputs": [],
   "source": [
    "ibm_test$YearsAtCompany<-NULL"
   ]
  },
  {
   "cell_type": "code",
   "execution_count": 252,
   "metadata": {},
   "outputs": [],
   "source": [
    "ibm_train$YearsAtCompany<-NULL"
   ]
  },
  {
   "cell_type": "code",
   "execution_count": 253,
   "metadata": {},
   "outputs": [
    {
     "data": {
      "text/html": [
       "14"
      ],
      "text/latex": [
       "14"
      ],
      "text/markdown": [
       "14"
      ],
      "text/plain": [
       "[1] 14"
      ]
     },
     "metadata": {},
     "output_type": "display_data"
    }
   ],
   "source": [
    "ncol(ibm_train)"
   ]
  },
  {
   "cell_type": "code",
   "execution_count": 254,
   "metadata": {},
   "outputs": [
    {
     "data": {
      "text/html": [
       "14"
      ],
      "text/latex": [
       "14"
      ],
      "text/markdown": [
       "14"
      ],
      "text/plain": [
       "[1] 14"
      ]
     },
     "metadata": {},
     "output_type": "display_data"
    }
   ],
   "source": [
    "ncol(ibm_test)"
   ]
  },
  {
   "cell_type": "markdown",
   "metadata": {},
   "source": [
    "# Building regression model after removing of non significant columns"
   ]
  },
  {
   "cell_type": "code",
   "execution_count": 255,
   "metadata": {},
   "outputs": [],
   "source": [
    "IBM_Model<-glm(Attrition~.,data=ibm_train,family=binomial('logit'))"
   ]
  },
  {
   "cell_type": "code",
   "execution_count": 256,
   "metadata": {},
   "outputs": [
    {
     "data": {
      "text/plain": [
       "\n",
       "Call:\n",
       "glm(formula = Attrition ~ ., family = binomial(\"logit\"), data = ibm_train)\n",
       "\n",
       "Deviance Residuals: \n",
       "    Min       1Q   Median       3Q      Max  \n",
       "-1.8604  -0.5676  -0.3390  -0.1663   3.0764  \n",
       "\n",
       "Coefficients:\n",
       "                                Estimate Std. Error z value Pr(>|z|)    \n",
       "(Intercept)                      1.38952    0.75412   1.843 0.065390 .  \n",
       "BusinessTravelTravel_Frequently  1.57208    0.42184   3.727 0.000194 ***\n",
       "BusinessTravelTravel_Rarely      0.92607    0.39614   2.338 0.019401 *  \n",
       "DistanceFromHome                 0.03416    0.01082   3.158 0.001586 ** \n",
       "EnvironmentSatisfaction         -0.34455    0.08231  -4.186 2.84e-05 ***\n",
       "JobInvolvement                  -0.57488    0.12225  -4.703 2.57e-06 ***\n",
       "JobSatisfaction                 -0.31780    0.08210  -3.871 0.000108 ***\n",
       "MaritalStatusMarried             0.36247    0.26625   1.361 0.173383    \n",
       "MaritalStatusSingle              1.36333    0.26910   5.066 4.06e-07 ***\n",
       "OverTimeYes                      1.57306    0.18716   8.405  < 2e-16 ***\n",
       "RelationshipSatisfaction        -0.18023    0.08338  -2.162 0.030644 *  \n",
       "TrainingTimesLastYear           -0.23905    0.07618  -3.138 0.001701 ** \n",
       "WorkLifeBalance                 -0.20484    0.12525  -1.635 0.101951    \n",
       "YearsInCurrentRole              -0.13219    0.04213  -3.138 0.001703 ** \n",
       "YearsSinceLastPromotion          0.11894    0.03724   3.194 0.001404 ** \n",
       "YearsWithCurrManager            -0.13041    0.04243  -3.074 0.002115 ** \n",
       "---\n",
       "Signif. codes:  0 '***' 0.001 '**' 0.01 '*' 0.05 '.' 0.1 ' ' 1\n",
       "\n",
       "(Dispersion parameter for binomial family taken to be 1)\n",
       "\n",
       "    Null deviance: 1046.75  on 1175  degrees of freedom\n",
       "Residual deviance:  803.93  on 1160  degrees of freedom\n",
       "AIC: 835.93\n",
       "\n",
       "Number of Fisher Scoring iterations: 6\n"
      ]
     },
     "metadata": {},
     "output_type": "display_data"
    }
   ],
   "source": [
    "summary(IBM_Model)"
   ]
  },
  {
   "cell_type": "code",
   "execution_count": 331,
   "metadata": {},
   "outputs": [],
   "source": [
    "model_result_pred<-predict(IBM_Model,newdata=ibm_test,type='response')"
   ]
  },
  {
   "cell_type": "code",
   "execution_count": 332,
   "metadata": {},
   "outputs": [],
   "source": [
    "ibm_train$prob<-predict(IBM_Model,newdata=ibm_test,type='response')"
   ]
  },
  {
   "cell_type": "code",
   "execution_count": 333,
   "metadata": {},
   "outputs": [],
   "source": [
    "ibm_train$prediction<-ifelse(ibm_train$prob>0.5,\"yes\",\"No\")"
   ]
  },
  {
   "cell_type": "code",
   "execution_count": 334,
   "metadata": {},
   "outputs": [],
   "source": [
    "CFM<-xtabs(~prediction+Attrition,data=ibm_train)"
   ]
  },
  {
   "cell_type": "code",
   "execution_count": 335,
   "metadata": {},
   "outputs": [
    {
     "data": {
      "text/plain": [
       "          Attrition\n",
       "prediction  No Yes\n",
       "       No  920 180\n",
       "       yes  64  12"
      ]
     },
     "metadata": {},
     "output_type": "display_data"
    }
   ],
   "source": [
    "CFM"
   ]
  },
  {
   "cell_type": "code",
   "execution_count": 336,
   "metadata": {},
   "outputs": [],
   "source": [
    "Accuracy<-sum(diag(CFM))/sum(CFM)"
   ]
  },
  {
   "cell_type": "code",
   "execution_count": 337,
   "metadata": {},
   "outputs": [
    {
     "data": {
      "text/html": [
       "0.792517006802721"
      ],
      "text/latex": [
       "0.792517006802721"
      ],
      "text/markdown": [
       "0.792517006802721"
      ],
      "text/plain": [
       "[1] 0.792517"
      ]
     },
     "metadata": {},
     "output_type": "display_data"
    }
   ],
   "source": [
    "Accuracy"
   ]
  },
  {
   "cell_type": "markdown",
   "metadata": {},
   "source": [
    "# Accuarcy of regrression model for IBM dataset is 79.25% "
   ]
  },
  {
   "cell_type": "code",
   "execution_count": null,
   "metadata": {},
   "outputs": [],
   "source": []
  },
  {
   "cell_type": "markdown",
   "metadata": {},
   "source": [
    "# Decession Tree Model "
   ]
  },
  {
   "cell_type": "code",
   "execution_count": 316,
   "metadata": {},
   "outputs": [
    {
     "data": {
      "text/plain": [
       "      Predicted\n",
       "Actual  No Yes\n",
       "   No  244   5\n",
       "   Yes  38   7"
      ]
     },
     "metadata": {},
     "output_type": "display_data"
    }
   ],
   "source": [
    "tree<-rpart(Attrition~.,data=ibm_train,cp=0.02)\n",
    "preds<-predict(tree,newdata=ibm_test,type='class')\n",
    "CFM<-table(ibm_test$Attrition,preds,dnn=c(\"Actual\",\"Predicted\"))\n",
    "CFM"
   ]
  },
  {
   "cell_type": "code",
   "execution_count": 317,
   "metadata": {},
   "outputs": [],
   "source": [
    "Accuracy<-sum(diag(CFM))/sum(CFM)"
   ]
  },
  {
   "cell_type": "code",
   "execution_count": 318,
   "metadata": {},
   "outputs": [
    {
     "data": {
      "text/html": [
       "0.853741496598639"
      ],
      "text/latex": [
       "0.853741496598639"
      ],
      "text/markdown": [
       "0.853741496598639"
      ],
      "text/plain": [
       "[1] 0.8537415"
      ]
     },
     "metadata": {},
     "output_type": "display_data"
    }
   ],
   "source": [
    "Accuracy"
   ]
  },
  {
   "cell_type": "markdown",
   "metadata": {},
   "source": [
    "# Accuracy of IBM model by using Decession tree alogoritham is 85.37%"
   ]
  },
  {
   "cell_type": "code",
   "execution_count": 265,
   "metadata": {},
   "outputs": [
    {
     "name": "stderr",
     "output_type": "stream",
     "text": [
      "Warning message:\n",
      "\"package 'rpart.plot' was built under R version 3.6.3\""
     ]
    }
   ],
   "source": [
    "library(rpart.plot)"
   ]
  },
  {
   "cell_type": "code",
   "execution_count": 266,
   "metadata": {},
   "outputs": [
    {
     "data": {
      "image/png": "[encoded data removed]",
      "text/plain": [
       "plot without title"
      ]
     },
     "metadata": {},
     "output_type": "display_data"
    }
   ],
   "source": [
    "rpart.plot(tree,\n",
    "          type=4,\n",
    "          extra=104,\n",
    "          tweak=0.9,\n",
    "          fallen.leaves=F)"
   ]
  },
  {
   "cell_type": "code",
   "execution_count": 267,
   "metadata": {},
   "outputs": [
    {
     "data": {
      "image/png": "[encoded data removed]",
      "text/plain": [
       "plot without title"
      ]
     },
     "metadata": {},
     "output_type": "display_data"
    }
   ],
   "source": [
    "prp(tree)"
   ]
  },
  {
   "cell_type": "markdown",
   "metadata": {},
   "source": [
    "# Model prediction by Random Forest Alogoritham"
   ]
  },
  {
   "cell_type": "code",
   "execution_count": 269,
   "metadata": {},
   "outputs": [
    {
     "name": "stderr",
     "output_type": "stream",
     "text": [
      "Warning message:\n",
      "\"package 'randomForest' was built under R version 3.6.3\"randomForest 4.6-14\n",
      "Type rfNews() to see new features/changes/bug fixes.\n"
     ]
    }
   ],
   "source": [
    "library(randomForest)"
   ]
  },
  {
   "cell_type": "code",
   "execution_count": 270,
   "metadata": {},
   "outputs": [],
   "source": [
    "RFM<-randomForest(Attrition~.,data=ibm_train,ntree=500,mtree=3,nodesize=0.*nrow(ibm_train))"
   ]
  },
  {
   "cell_type": "code",
   "execution_count": 276,
   "metadata": {},
   "outputs": [],
   "source": [
    "preds<-predict(RFM,newdata=ibm_test,type='class')"
   ]
  },
  {
   "cell_type": "code",
   "execution_count": 277,
   "metadata": {},
   "outputs": [],
   "source": [
    "CFM<-table(ibm_test$Attrition,preds,dnn=c(\"Actual\",\"Predicted\"))"
   ]
  },
  {
   "cell_type": "code",
   "execution_count": 278,
   "metadata": {},
   "outputs": [
    {
     "data": {
      "text/plain": [
       "      Predicted\n",
       "Actual  No Yes\n",
       "   No  243   6\n",
       "   Yes  36   9"
      ]
     },
     "metadata": {},
     "output_type": "display_data"
    }
   ],
   "source": [
    "CFM"
   ]
  },
  {
   "cell_type": "code",
   "execution_count": 279,
   "metadata": {},
   "outputs": [],
   "source": [
    "Accuracy<-sum(diag(CFM))/sum(CFM)"
   ]
  },
  {
   "cell_type": "code",
   "execution_count": 309,
   "metadata": {},
   "outputs": [
    {
     "data": {
      "text/html": [
       "0.857142857142857"
      ],
      "text/latex": [
       "0.857142857142857"
      ],
      "text/markdown": [
       "0.857142857142857"
      ],
      "text/plain": [
       "[1] 0.8571429"
      ]
     },
     "metadata": {},
     "output_type": "display_data"
    }
   ],
   "source": [
    "Accuracy"
   ]
  },
  {
   "cell_type": "code",
   "execution_count": null,
   "metadata": {},
   "outputs": [],
   "source": [
    "## Checking model accuarcy for diffrent mtee and mtree value - Iteration -1"
   ]
  },
  {
   "cell_type": "code",
   "execution_count": 288,
   "metadata": {},
   "outputs": [],
   "source": [
    "RFM<-randomForest(Attrition~.,data=ibm_train,ntree=600,mtree=6,nodesize=0.*nrow(ibm_train))\n",
    "preds<-predict(RFM,newdata=ibm_test,type='class')\n",
    "CFM<-table(ibm_test$Attrition,preds,dnn=c(\"Actual\",\"Predicted\"))"
   ]
  },
  {
   "cell_type": "code",
   "execution_count": 289,
   "metadata": {},
   "outputs": [
    {
     "data": {
      "text/plain": [
       "      Predicted\n",
       "Actual  No Yes\n",
       "   No  244   5\n",
       "   Yes  35  10"
      ]
     },
     "metadata": {},
     "output_type": "display_data"
    }
   ],
   "source": [
    "CFM"
   ]
  },
  {
   "cell_type": "code",
   "execution_count": 290,
   "metadata": {},
   "outputs": [],
   "source": [
    "Accuarcy_1<-sum(diag(CFM))/sum(CFM)"
   ]
  },
  {
   "cell_type": "code",
   "execution_count": 291,
   "metadata": {},
   "outputs": [
    {
     "data": {
      "text/html": [
       "0.863945578231292"
      ],
      "text/latex": [
       "0.863945578231292"
      ],
      "text/markdown": [
       "0.863945578231292"
      ],
      "text/plain": [
       "[1] 0.8639456"
      ]
     },
     "metadata": {},
     "output_type": "display_data"
    }
   ],
   "source": [
    "Accuarcy_1"
   ]
  },
  {
   "cell_type": "code",
   "execution_count": null,
   "metadata": {},
   "outputs": [],
   "source": [
    "## Checking model accuarcy for diffrent mtee and mtree value - Iteration -2"
   ]
  },
  {
   "cell_type": "code",
   "execution_count": 296,
   "metadata": {},
   "outputs": [],
   "source": [
    "RFM<-randomForest(Attrition~.,data=ibm_train,ntree=700,mtree=8,nodesize=0.*nrow(ibm_train))\n",
    "preds<-predict(RFM,newdata=ibm_test,type='class')\n",
    "CFM<-table(ibm_test$Attrition,preds,dnn=c(\"Actual\",\"Predicted\"))"
   ]
  },
  {
   "cell_type": "code",
   "execution_count": 297,
   "metadata": {},
   "outputs": [
    {
     "data": {
      "text/plain": [
       "      Predicted\n",
       "Actual  No Yes\n",
       "   No  244   5\n",
       "   Yes  36   9"
      ]
     },
     "metadata": {},
     "output_type": "display_data"
    }
   ],
   "source": [
    "CFM"
   ]
  },
  {
   "cell_type": "code",
   "execution_count": 298,
   "metadata": {},
   "outputs": [],
   "source": [
    "Accuracy_3<-sum(diag(CFM))/sum(CFM)"
   ]
  },
  {
   "cell_type": "code",
   "execution_count": 299,
   "metadata": {},
   "outputs": [
    {
     "data": {
      "text/html": [
       "0.860544217687075"
      ],
      "text/latex": [
       "0.860544217687075"
      ],
      "text/markdown": [
       "0.860544217687075"
      ],
      "text/plain": [
       "[1] 0.8605442"
      ]
     },
     "metadata": {},
     "output_type": "display_data"
    }
   ],
   "source": [
    "Accuracy_3"
   ]
  },
  {
   "cell_type": "code",
   "execution_count": 300,
   "metadata": {},
   "outputs": [],
   "source": [
    "## Checking model accuarcy for diffrent mtee and mtree value - Iteration -3"
   ]
  },
  {
   "cell_type": "code",
   "execution_count": 301,
   "metadata": {},
   "outputs": [],
   "source": [
    "RFM<-randomForest(Attrition~.,data=ibm_train,ntree=900,mtree=10,nodesize=0.*nrow(ibm_train))\n",
    "preds<-predict(RFM,newdata=ibm_test,type='class')\n",
    "CFM<-table(ibm_test$Attrition,preds,dnn=c(\"Actual\",\"Predicted\"))"
   ]
  },
  {
   "cell_type": "code",
   "execution_count": 302,
   "metadata": {},
   "outputs": [
    {
     "data": {
      "text/plain": [
       "      Predicted\n",
       "Actual  No Yes\n",
       "   No  243   6\n",
       "   Yes  35  10"
      ]
     },
     "metadata": {},
     "output_type": "display_data"
    }
   ],
   "source": [
    "CFM"
   ]
  },
  {
   "cell_type": "code",
   "execution_count": 303,
   "metadata": {},
   "outputs": [],
   "source": [
    "Accuarcy_4<-sum(diag(CFM))/sum(CFM)"
   ]
  },
  {
   "cell_type": "code",
   "execution_count": 304,
   "metadata": {},
   "outputs": [
    {
     "data": {
      "text/html": [
       "0.860544217687075"
      ],
      "text/latex": [
       "0.860544217687075"
      ],
      "text/markdown": [
       "0.860544217687075"
      ],
      "text/plain": [
       "[1] 0.8605442"
      ]
     },
     "metadata": {},
     "output_type": "display_data"
    }
   ],
   "source": [
    "Accuarcy_4"
   ]
  },
  {
   "cell_type": "code",
   "execution_count": null,
   "metadata": {},
   "outputs": [],
   "source": [
    "## Checking model accuarcy for diffrent mtee and mtree value - Iteration -4"
   ]
  },
  {
   "cell_type": "code",
   "execution_count": 305,
   "metadata": {},
   "outputs": [],
   "source": [
    "RFM<-randomForest(Attrition~.,data=ibm_train,ntree=1000,mtree=12,nodesize=0.*nrow(ibm_train))\n",
    "preds<-predict(RFM,newdata=ibm_test,type='class')\n",
    "CFM<-table(ibm_test$Attrition,preds,dnn=c(\"Actual\",\"Predicted\"))"
   ]
  },
  {
   "cell_type": "code",
   "execution_count": 306,
   "metadata": {},
   "outputs": [
    {
     "data": {
      "text/plain": [
       "      Predicted\n",
       "Actual  No Yes\n",
       "   No  244   5\n",
       "   Yes  34  11"
      ]
     },
     "metadata": {},
     "output_type": "display_data"
    }
   ],
   "source": [
    "CFM"
   ]
  },
  {
   "cell_type": "code",
   "execution_count": 307,
   "metadata": {},
   "outputs": [],
   "source": [
    "Accuracy_5<-sum(diag(CFM))/sum(CFM)"
   ]
  },
  {
   "cell_type": "code",
   "execution_count": 308,
   "metadata": {},
   "outputs": [
    {
     "data": {
      "text/html": [
       "0.86734693877551"
      ],
      "text/latex": [
       "0.86734693877551"
      ],
      "text/markdown": [
       "0.86734693877551"
      ],
      "text/plain": [
       "[1] 0.8673469"
      ]
     },
     "metadata": {},
     "output_type": "display_data"
    }
   ],
   "source": [
    "Accuracy_5"
   ]
  },
  {
   "cell_type": "code",
   "execution_count": null,
   "metadata": {},
   "outputs": [],
   "source": [
    "##CONCLUSSION - Random forest alogoritham is giving better accuracy compared to decission tree and regression algorithams"
   ]
  }
 ],
 "metadata": {
  "kernelspec": {
   "display_name": "R",
   "language": "R",
   "name": "ir"
  },
  "language_info": {
   "codemirror_mode": "r",
   "file_extension": ".r",
   "mimetype": "text/x-r-source",
   "name": "R",
   "pygments_lexer": "r",
   "version": "3.6.1"
  }
 },
 "nbformat": 4,
 "nbformat_minor": 4
}
